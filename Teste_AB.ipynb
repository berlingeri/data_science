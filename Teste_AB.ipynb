{
 "cells": [
  {
   "cell_type": "code",
   "execution_count": 1,
   "id": "f15ad04b",
   "metadata": {},
   "outputs": [],
   "source": [
    "# Packages imports\n",
    "import numpy as np\n",
    "import pandas as pd\n",
    "import scipy.stats as stats\n",
    "import statsmodels.stats.api as sms\n",
    "import matplotlib as mpl\n",
    "import matplotlib.pyplot as plt\n",
    "import seaborn as sns\n",
    "from math import ceil, floor\n",
    "from statsmodels.stats.proportion import proportions_ztest, proportion_confint"
   ]
  },
  {
   "cell_type": "code",
   "execution_count": 2,
   "id": "68136928",
   "metadata": {},
   "outputs": [],
   "source": [
    "#Importando os dados\n",
    "\n",
    "df_ab = pd.read_csv('ab_data.csv')\n",
    "\n",
    "#Verificando os usuários que aparecem mais de uma vez\n",
    "df_ab_aux = df_ab.groupby('user_id').agg('count')\n",
    "\n",
    "df_ab_aux = df_ab_aux.loc[df_ab_aux['timestamp'] > 1]\n",
    "\n",
    "df_ab_aux = df_ab_aux.index\n",
    "\n",
    "#Como não sabemos quais das sessões destes usuários vamos considerar e o número de usuários duplicados é pequeno\n",
    "#(3894 em um dataframe de 294478 entradas) podemos descartar esses usuários\n",
    "\n",
    "df_ab = df_ab[~df_ab['user_id'].isin(df_ab_aux)]\n",
    "\n"
   ]
  },
  {
   "cell_type": "code",
   "execution_count": 3,
   "id": "14fbafeb",
   "metadata": {},
   "outputs": [
    {
     "name": "stdout",
     "output_type": "stream",
     "text": [
      "<class 'pandas.core.series.Series'>\n",
      "Int64Index: 1 entries, 0 to 0\n",
      "Series name: group\n",
      "Non-Null Count  Dtype \n",
      "--------------  ----- \n",
      "1 non-null      object\n",
      "dtypes: object(1)\n",
      "memory usage: 16.0+ bytes\n",
      "<class 'pandas.core.series.Series'>\n",
      "Int64Index: 1 entries, 2 to 2\n",
      "Series name: group\n",
      "Non-Null Count  Dtype \n",
      "--------------  ----- \n",
      "1 non-null      object\n",
      "dtypes: object(1)\n",
      "memory usage: 16.0+ bytes\n",
      "774\n"
     ]
    }
   ],
   "source": [
    "#Criando as tabelas de controle e tratamento\n",
    "df_control = df_ab.loc[df_ab['group'] == 'control']\n",
    "df_treat = df_ab.loc[df_ab['group'] == 'treatment']\n",
    "\n",
    "#Verificando se no grupo de controle todos foram direcionados para a página antiga\n",
    "df_control_aux = df_control['group'].drop_duplicates()\n",
    "df_control_aux\n",
    "df_control_aux.info()\n",
    "\n",
    "#Verificando se no grupo de tratamento todos foram direcionados para a página nova\n",
    "df_treat_aux = df_treat['group'].drop_duplicates()\n",
    "df_treat_aux\n",
    "df_treat_aux.info()\n",
    "\n",
    "#Definindo o tamanho das amostras que vamos usar para cada grupo\n",
    "#É preciso definir a diferença que queremos ver entre as taxas de conversão das páginas\n",
    "#Para isso, primeiro precisamos calcular a proporção de conversões por acessos no grupo de controle\n",
    "\n",
    "numero_conv = df_control['converted'].agg('sum')\n",
    "numero_total = df_control['converted'].agg('count')\n",
    "taxa_conversao_atual = numero_conv/numero_total\n",
    "\n",
    "#Calculamos a taxa de conversão atual = 0.12017335110577627, que vamos considerar 12% para a administração do negócio\n",
    "\n",
    "#O efeito mínimo desejado é um parâmetro do negócio\n",
    "#Neste caso vamos supor que os diretores esperam que a nova página aumente em 5%, ou seja, taxa de conversão = 17%\n",
    "\n",
    "efeito = sms.proportion_effectsize(0.12, 0.17)\n",
    "\n",
    "n_amostra = sms.NormalIndPower().solve_power(\n",
    "    efeito, \n",
    "    power=0.8, \n",
    "    alpha=0.05, \n",
    "    ratio=1)            \n",
    "n_amostra = ceil(n_amostra)\n",
    "\n",
    "#Quanto menor a diferença (efeito), maior será o tamanho da amostra, pois o teste precisa ser mais sensível\n",
    "#Com os parâmetros escolhidos acima, cada amostra terá 774 observações\n",
    "#Em uma situação real, isso quer dizer que a página antiga seria mostrada para outros 774 usuários\n",
    "#E a página nova seria mostrada para outros 774 usuários para que seja possível tirar alguma conclusão\n",
    "\n",
    "print(n_amostra)"
   ]
  },
  {
   "cell_type": "code",
   "execution_count": 4,
   "id": "d17639e4",
   "metadata": {},
   "outputs": [
    {
     "name": "stdout",
     "output_type": "stream",
     "text": [
      "A média amostral do grupo de controle é 11.5%\n",
      "A média amostral do grupo de tratamento é 13.95%\n",
      "O desvio padrão da amostra de controle é 31.9%\n",
      "O desvio padrão da amostra de tratamento é 34.65%\n",
      "z: -1.45\n",
      "p-value: 0.147\n",
      "intervalo de confiança 95% para o grupo de controle: [0.093, 0.137]\n",
      "intervalo de confiança 95% para o grupo de tratamento: [0.115, 0.164]\n"
     ]
    }
   ],
   "source": [
    "#Nós já temos muito mais entradas de dados do que as 774 para cada grupo, mas para simular uma situação real\n",
    "#Vamos selecionar aleatóriamente amostras deste tamanho para análise\n",
    "#Pois, em uma situação real, colher mais observações leva tempo e pode ser muito caro\n",
    "\n",
    "#Amostra do grupo de controle (página antiga)\n",
    "amostra_control = df_control.sample(n=n_amostra, random_state=42)\n",
    "\n",
    "#Amostra do grupo de tratamento (página nova)\n",
    "amostra_treat = df_treat.sample(n=n_amostra, random_state=42)\n",
    "\n",
    "#O random_state é apenas uma das possibilidades de aleatoriedade (vai de 0 a 2^32 - 1 = 4294967295)\n",
    "\n",
    "\n",
    "#Calculando a taxa de conversão de cada amostra\n",
    "numero_conv_control = amostra_control['converted'].agg('sum')\n",
    "taxa_conversao_control = numero_conv_control/n_amostra\n",
    "print(f'A média amostral do grupo de controle é {np.round(taxa_conversao_control*100,2)}%')\n",
    "\n",
    "numero_conv_treat = amostra_treat['converted'].agg('sum')\n",
    "taxa_conversao_treat = numero_conv_treat/n_amostra\n",
    "print(f'A média amostral do grupo de tratamento é {np.round(taxa_conversao_treat*100,2)}%')\n",
    "\n",
    "#Desde já conseguimos avaliar que não houve um aumento de 5% nas conversões, como a diretoria espera\n",
    "#Mas a pergunta feita em um teste A/B é, sobretudo, se houve uma mudança significativa na distribuição\n",
    "\n",
    "#Calculando o desvio padrão de cada amostra\n",
    "#ddof significa degrees od freedom, ou graus de liberdade e o valor 0 indica que estamos lidando com observações unitárias\n",
    "#para calcular o desvio padrão em um experimento em que cada observação é uma média amostral, usamos ddof = 1\n",
    "\n",
    "dp_control = np.std(amostra_control['converted'], ddof = 0)\n",
    "print(f'O desvio padrão da amostra de controle é {np.round(dp_control*100,2)}%')\n",
    "\n",
    "dp_treat = np.std(amostra_treat['converted'], ddof = 0)\n",
    "print(f'O desvio padrão da amostra de tratamento é {np.round(dp_treat*100,2)}%')\n",
    "\n",
    "#Realizando o teste\n",
    "z_stat, pval = proportions_ztest([numero_conv_control,numero_conv_treat], nobs=[n_amostra, n_amostra])\n",
    "#Calculando os intervalos de confiança\n",
    "(inf_con, inf_treat), (sup_con, sup_treat) = proportion_confint([numero_conv_control,numero_conv_treat], [n_amostra, n_amostra], alpha=0.05)\n",
    "\n",
    "print(f'z: {z_stat:.2f}')\n",
    "print(f'p-value: {pval:.3f}')\n",
    "print(f'intervalo de confiança 95% para o grupo de controle: [{inf_con:.3f}, {sup_con:.3f}]')\n",
    "print(f'intervalo de confiança 95% para o grupo de tratamento: [{inf_treat:.3f}, {sup_treat:.3f}]')\n",
    "\n"
   ]
  },
  {
   "cell_type": "code",
   "execution_count": 5,
   "id": "350388b8",
   "metadata": {},
   "outputs": [],
   "source": [
    "#Avaliando os resultados\n",
    "\n",
    "#O p-value ficou acima do 0,05, que era o parâmetro alpha, ou a chance de cometermos um erro do tipo 1\n",
    "#Erro do tipo 1: consdierar que a distribuição do grupo de tratamento é diferente que a dist do grupo de controle\n",
    "#Dessa forma não podemos rejeitar a hipótese nula de que as duas amostras seguem a mesma distribuição\n",
    "#Ou seja, não houve diferença significativa de performance entre as duas páginas\n",
    "#Nem para melhor nem para pior\n",
    "#Muito menos podemos afirmar que houve um aumento de 5%, como esperado pela diretoria\n",
    "#Apesar da média amostral ser maior para o grupo de tratamento, isso não tem significância estatística\n",
    "#Em um cenário de negócios data-driven, essa nova página não seria lançada ao público"
   ]
  },
  {
   "cell_type": "code",
   "execution_count": 6,
   "id": "ad4e28b2",
   "metadata": {},
   "outputs": [
    {
     "name": "stdout",
     "output_type": "stream",
     "text": [
      "185, 185\n"
     ]
    }
   ],
   "source": [
    "#Bônus: avaliando a população total\n",
    "\n",
    "#Vamos agora usar toda a informação do dataset original e considerar que esses são todos os acessos ao site\n",
    "#Já dividimos entre os usuários que foram direcionados à página nova e à pagina antiga\n",
    "#Contudo, deixar essa divisão aqui também permite que essa célula seja executada múltiplas vezes\n",
    "#Sem precisar executar o código anterior\n",
    "\n",
    "df_control = df_ab.loc[df_ab['group'] == 'control']\n",
    "df_treat = df_ab.loc[df_ab['group'] == 'treatment']\n",
    "\n",
    "#O objetivo é pegar o máximo número de amostras de tamanho n de cada grupo e observar a distribuição das médias amostrais\n",
    "#Lembrando que médias amostrais sempre tendem a uma distribuição normal (ou Gaussiana)\n",
    "#Mantendo n = 774\n",
    "#Verificar quantas amostras deste tamanho podem ser retiradas de cada grupo\n",
    "\n",
    "df_control_cont = df_control['converted'].agg('count')\n",
    "numero_de_amostras_control = floor(df_control_cont/n_amostra)\n",
    "\n",
    "df_treat_cont = df_treat['converted'].agg('count')\n",
    "numero_de_amostras_treat = floor(df_treat_cont/n_amostra)\n",
    "\n",
    "print(f'{numero_de_amostras_control}, {numero_de_amostras_treat}')\n",
    "\n",
    "medias_control = pd.Series(index = (1, 185), dtype = 'float64')\n",
    "medias_treat = pd.Series(index = (1, 185), dtype = 'float64')\n",
    "\n",
    "contador = 1\n",
    "\n",
    "for contador in range(1, numero_de_amostras_control+1):\n",
    "    amostra_control = df_control.sample(n=n_amostra, random_state=42)\n",
    "    users = amostra_control['user_id']\n",
    "    conv = amostra_control['converted'].agg('sum')\n",
    "    media = conv/n_amostra\n",
    "    medias_control[contador] = media\n",
    "    #Retirando as observações já consideradas\n",
    "    df_control = df_control[~df_control['user_id'].isin(users)]\n",
    "    \n",
    "for contador in range(1, numero_de_amostras_treat+1):\n",
    "    amostra_treat = df_treat.sample(n=n_amostra, random_state=42)\n",
    "    users = amostra_treat['user_id']\n",
    "    conv = amostra_treat['converted'].agg('sum')\n",
    "    media = conv/n_amostra\n",
    "    medias_treat[contador] = media\n",
    "    #Retirando as observações já consideradas\n",
    "    df_treat = df_treat[~df_treat['user_id'].isin(users)]\n",
    "    \n",
    "    \n",
    "    \n",
    "    "
   ]
  },
  {
   "cell_type": "code",
   "execution_count": 32,
   "id": "04f44d48",
   "metadata": {
    "scrolled": true
   },
   "outputs": [
    {
     "data": {
      "image/png": "[encoded data removed]",
      "text/plain": [
       "<Figure size 640x480 with 1 Axes>"
      ]
     },
     "metadata": {},
     "output_type": "display_data"
    },
    {
     "name": "stdout",
     "output_type": "stream",
     "text": [
      "A média amostral do grupo de controle é 0.1202\n",
      "O desvio padrão amostral do grupo de controle é 1.14%\n"
     ]
    },
    {
     "data": {
      "image/png": "[encoded data removed]",
      "text/plain": [
       "<Figure size 640x480 with 1 Axes>"
      ]
     },
     "metadata": {},
     "output_type": "display_data"
    },
    {
     "name": "stdout",
     "output_type": "stream",
     "text": [
      "A média amostral do grupo de tratamento é 0.1187\n",
      "O desvio padrão amostral do grupo de tratamento é 1.22%\n"
     ]
    },
    {
     "data": {
      "image/png": "[encoded data removed]",
      "text/plain": [
       "<Figure size 640x480 with 1 Axes>"
      ]
     },
     "metadata": {},
     "output_type": "display_data"
    }
   ],
   "source": [
    "#Vizualização das distribuições amostrais\n",
    "\n",
    "fig, ax = plt.subplots()\n",
    "\n",
    "ax.hist(medias_control, bins=50, linewidth=0.5, edgecolor=\"white\", color= 'blue')\n",
    "\n",
    "plt.show()\n",
    "\n",
    "plt.close()\n",
    "\n",
    "\n",
    "media_amostral_control = np.mean(medias_control)\n",
    "print(f'A média amostral do grupo de controle é {np.round(media_amostral_control,4)}')\n",
    "\n",
    "dp_amostral_control = np.std(medias_control, ddof = 1)\n",
    "print(f'O desvio padrão amostral do grupo de controle é {np.round(dp_amostral_control*100,2)}%')\n",
    "\n",
    "\n",
    "fig, ax = plt.subplots()\n",
    "\n",
    "ax.hist(medias_treat, bins=50, linewidth=0.5, edgecolor=\"white\", color= 'red')\n",
    "\n",
    "plt.show()\n",
    "\n",
    "plt.close()\n",
    "\n",
    "media_amostral_treat = np.mean(medias_treat)\n",
    "print(f'A média amostral do grupo de tratamento é {np.round(media_amostral_treat,4)}')\n",
    "\n",
    "dp_amostral_treat = np.std(medias_treat, ddof = 1)\n",
    "print(f'O desvio padrão amostral do grupo de tratamento é {np.round(dp_amostral_treat*100,2)}%')\n",
    "\n",
    "\n",
    "# Plot between -10 and 10 with .001 steps.\n",
    "x_axis = np.arange(0.07, 0.17, 0.001)\n",
    "  \n",
    "plt.plot(x_axis, stats.norm.pdf(x_axis, media_amostral_control, dp_amostral_control))\n",
    "plt.plot(x_axis, stats.norm.pdf(x_axis, media_amostral_treat, dp_amostral_treat), color ='red')\n",
    "\n",
    "plt.show()\n"
   ]
  }
 ],
 "metadata": {
  "kernelspec": {
   "display_name": "Python 3 (ipykernel)",
   "language": "python",
   "name": "python3"
  },
  "language_info": {
   "codemirror_mode": {
    "name": "ipython",
    "version": 3
   },
   "file_extension": ".py",
   "mimetype": "text/x-python",
   "name": "python",
   "nbconvert_exporter": "python",
   "pygments_lexer": "ipython3",
   "version": "3.10.8"
  }
 },
 "nbformat": 4,
 "nbformat_minor": 5
}
